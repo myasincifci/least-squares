{
 "cells": [
  {
   "cell_type": "code",
   "execution_count": 1,
   "id": "d660e251",
   "metadata": {},
   "outputs": [],
   "source": [
    "import numpy as np\n",
    "import matplotlib.pyplot as plt\n",
    "import random"
   ]
  },
  {
   "cell_type": "code",
   "execution_count": 2,
   "id": "559a26f9",
   "metadata": {},
   "outputs": [],
   "source": [
    "def linreg_1d(X: np.ndarray, Y: np.ndarray):\n",
    "    h = X.shape\n",
    "    X = (np.array([X, np.ones(h)])).T #concatinate ones for constant factors to X\n",
    "    \n",
    "    return ((np.linalg.inv(X.T.dot(X))).dot(X.T)).dot(Y)"
   ]
  },
  {
   "cell_type": "code",
   "execution_count": 6,
   "id": "a34fc860",
   "metadata": {},
   "outputs": [
    {
     "data": {
      "image/png": "[encoded data removed]",
      "text/plain": [
       "<Figure size 432x288 with 1 Axes>"
      ]
     },
     "metadata": {
      "needs_background": "light"
     },
     "output_type": "display_data"
    }
   ],
   "source": [
    "# Create random points \n",
    "X = np.linspace(0,10,30)\n",
    "Y = [x + random.uniform(-2.5,2.5) for x in X]\n",
    "\n",
    "# perform linear regression\n",
    "r = linreg(X,Y)\n",
    "m,b = r[0], r[1]\n",
    "\n",
    "# plot result\n",
    "plt.plot(X, Y, 'o', label='X')\n",
    "plt.plot(X, m*X+b, '-r')\n",
    "plt.legend(loc='upper left')\n",
    "plt.grid()\n",
    "plt.show()"
   ]
  },
  {
   "cell_type": "code",
   "execution_count": null,
   "id": "fa32cf14",
   "metadata": {},
   "outputs": [],
   "source": []
  }
 ],
 "metadata": {
  "kernelspec": {
   "display_name": "Python 3 (ipykernel)",
   "language": "python",
   "name": "python3"
  },
  "language_info": {
   "codemirror_mode": {
    "name": "ipython",
    "version": 3
   },
   "file_extension": ".py",
   "mimetype": "text/x-python",
   "name": "python",
   "nbconvert_exporter": "python",
   "pygments_lexer": "ipython3",
   "version": "3.8.10"
  }
 },
 "nbformat": 4,
 "nbformat_minor": 5
}
